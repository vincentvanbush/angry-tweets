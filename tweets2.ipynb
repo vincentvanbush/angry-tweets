{
 "cells": [
  {
   "cell_type": "code",
   "execution_count": 50,
   "metadata": {
    "collapsed": true
   },
   "outputs": [],
   "source": [
    "import pandas as pd\n",
    "from nltk.tokenize import TweetTokenizer\n",
    "from sklearn import preprocessing\n",
    "from sklearn.feature_extraction.text import TfidfVectorizer\n",
    "from sklearn import svm"
   ]
  },
  {
   "cell_type": "code",
   "execution_count": 93,
   "metadata": {},
   "outputs": [],
   "source": [
    "stopwords = [\"a\", \"about\", \"after\", \"all\", \"am\", \"an\", \"and\", \"any\", \"are\", \"as\", \"at\", \"be\", \"because\", \"been\",\n",
    "            \"before\", \"being\", \"between\", \"both\", \"by\", \"could\", \"did\", \"do\", \"does\", \"doing\", \"during\", \"each\",\n",
    "            \"for\", \"from\", \"further\", \"had\", \"has\", \"have\", \"having\", \"he\", \"he'd\", \"he'll\", \"he's\", \"her\", \"here\",\n",
    "            \"here's\", \"hers\", \"herself\", \"him\", \"himself\", \"his\", \"how\", \"how's\", \"i\", \"i'd\", \"i'll\", \"i'm\", \"i've\",\n",
    "            \"in\", \"into\", \"is\", \"it\", \"it's\", \"its\", \"itself\", \"let's\", \"me\", \"more\", \"most\", \"my\", \"myself\", \"of\",\n",
    "            \"on\", \"once\", \"only\", \"or\", \"other\", \"ought\", \"our\", \"ours\", \"ourselves\", \"own\", \"shan't\", \"she\", \"she'd\",\n",
    "            \"she'll\", \"she's\", \"should\", \"so\", \"some\", \"such\", \"than\", \"that\", \"that's\", \"the\", \"their\", \"theirs\",\n",
    "            \"them\", \"themselves\", \"then\", \"there\", \"there's\", \"these\", \"they\", \"they'd\", \"they'll\", \"they're\",\n",
    "            \"they've\", \"this\", \"those\", \"through\", \"to\", \"until\", \"up\", \"very\", \"was\", \"wasn't\", \"we\", \"we'd\",\n",
    "            \"we'll\", \"we're\", \"we've\", \"were\", \"weren't\", \"what\", \"what's\", \"when\", \"when's\", \"where\", \"where's\",\n",
    "            \"which\", \"while\", \"who\", \"who's\", \"whom\", \"with\", \"would\", \"you\", \"you'd\", \"you'll\", \"you're\", \"you've\",\n",
    "            \"your\", \"yours\", \"yourself\", \"yourselves\", \"above\", \"again\", \"against\", \"aren't\", \"below\", \"but\", \"can't\",\n",
    "            \"cannot\", \"couldn't\", \"didn't\", \"doesn't\", \"don't\", \"down\", \"few\", \"hadn't\", \"hasn't\", \"haven't\", \"if\",\n",
    "            \"isn't\", \"mustn't\", \"no\", \"nor\", \"not\", \"off\", \"out\", \"over\", \"shouldn't\", \"same\", \"too\", \"under\", \"why\",\n",
    "            \"why's\", \"won't\", \"wouldn't\", \".\", \";\", \",\", \":\", \"?\", \"!\", \"\\\"\", \"-\", \"'\", \"...\",\n",
    "            \"1\", \"2\", \"3\", \"4\", \"5\", \"6\", \"7\", \"8\", \"9\", \"0\", \"...\", \"&\"]"
   ]
  },
  {
   "cell_type": "code",
   "execution_count": 284,
   "metadata": {
    "collapsed": false
   },
   "outputs": [],
   "source": [
    "from nltk.stem.snowball import SnowballStemmer\n",
    "from sklearn.cross_validation import train_test_split\n",
    "\n",
    "tweetfile = pd.read_csv('train.csv', sep=',', na_values=['Not Available']).dropna()\n",
    "le_category = preprocessing.LabelEncoder()\n",
    "# tweetfile.Category = le_category.fit_transform(tweetfile.Category)\n",
    "\n",
    "# print(set(tweetfile.Category))\n",
    "train_data, test_data = train_test_split(tweetfile, test_size=0.1, random_state=42)\n",
    "\n",
    "traincorpus = list(train_data.Tweet)#[0:500]\n",
    "traincategories = list(train_data.Category)#[0:500]\n",
    "testcorpus = list(test_data.Tweet)\n",
    "testcategories = list(test_data.Category)\n",
    "\n",
    "tknzr = TweetTokenizer(strip_handles=True, reduce_len=True, preserve_case=False)\n",
    "stemmer = SnowballStemmer(\"english\")\n",
    "def tokenize_and_stem(tweet):\n",
    "     return [stemmer.stem(word) for word in tknzr.tokenize(tweet)]\n",
    "\n",
    "vectorizer = TfidfVectorizer(min_df=3,\n",
    "                             strip_accents='ascii',\n",
    "                             stop_words=stopwords,\n",
    "                             use_idf=True,\n",
    "                             tokenizer=tokenize_and_stem)\n",
    "Xtrain = vectorizer.fit_transform(traincorpus)\n",
    "Xtest = vectorizer.transform(testcorpus)"
   ]
  },
  {
   "cell_type": "code",
   "execution_count": 289,
   "metadata": {},
   "outputs": [
    {
     "name": "stderr",
     "output_type": "stream",
     "text": [
      "[Parallel(n_jobs=8)]: Done  34 tasks      | elapsed:    1.8s\n"
     ]
    },
    {
     "name": "stderr",
     "output_type": "stream",
     "text": [
      "[Parallel(n_jobs=8)]: Done 150 out of 150 | elapsed:    6.8s finished\n[Parallel(n_jobs=8)]: Done  34 tasks      | elapsed:    0.0s\n[Parallel(n_jobs=8)]: Done 150 out of 150 | elapsed:    0.1s finished\n"
     ]
    },
    {
     "name": "stdout",
     "output_type": "stream",
     "text": [
      "             precision    recall  f1-score   support\n\n   negative       0.56      0.18      0.27        84\n    neutral       0.51      0.51      0.51       199\n   positive       0.66      0.80      0.72       260\n\navg / total       0.59      0.60      0.57       543\n\n"
     ]
    }
   ],
   "source": [
    "from sklearn.ensemble.forest import RandomForestClassifier\n",
    "from sklearn.metrics.classification import classification_report\n",
    "\n",
    "classifier = RandomForestClassifier(random_state=88,\n",
    "                                    n_jobs=8,\n",
    "                                    n_estimators=150,\n",
    "                                    verbose=True)\n",
    "svcfit = classifier.fit(Xtrain.toarray(), traincategories)\n",
    "svcpred = classifier.predict(Xtest.toarray())\n",
    "\n",
    "print(classification_report(testcategories, svcpred))"
   ]
  },
  {
   "cell_type": "code",
   "execution_count": 269,
   "metadata": {
    "collapsed": false
   },
   "outputs": [],
   "source": [
    "submissionfile = pd.read_csv('test.csv', dtype={'Id': object}, sep=',')\n",
    "# print(submissionfile)\n",
    "submissioncorpus = list(submissionfile.Category) # bad column name, that's actually tweets\n",
    "Xsubm = vectorizer.transform(submissioncorpus)\n",
    "svcpred_subm = classifier.predict(Xsubm.toarray())\n",
    "submissionfile.Category = svcpred_subm\n",
    "submissionfile.to_csv('subm_grad2.csv', index=False)"
   ]
  }
 ],
 "metadata": {
  "kernelspec": {
   "display_name": "Python 2",
   "language": "python",
   "name": "python2"
  },
  "language_info": {
   "codemirror_mode": {
    "name": "ipython",
    "version": 2.0
   },
   "file_extension": ".py",
   "mimetype": "text/x-python",
   "name": "python",
   "nbconvert_exporter": "python",
   "pygments_lexer": "ipython2",
   "version": "2.7.6"
  }
 },
 "nbformat": 4,
 "nbformat_minor": 0
}